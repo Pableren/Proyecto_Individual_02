{
 "cells": [
  {
   "cell_type": "code",
   "execution_count": 4,
   "metadata": {},
   "outputs": [],
   "source": [
    "import pandas as pd\n",
    "import numpy as np"
   ]
  },
  {
   "cell_type": "code",
   "execution_count": 5,
   "metadata": {},
   "outputs": [],
   "source": [
    "total_hojas = 15\n",
    "dataframes = {}  # Diccionario para almacenar los DataFrames\n",
    "\n",
    "for x in range(0,total_hojas):\n",
    "    hoja = pd.read_excel('data_pi02/Internet.xlsx',sheet_name=x)\n",
    "    dataframes[f'df_int{x+1}'] = hoja  # Guardar el DataFrame en el diccionario"
   ]
  },
  {
   "cell_type": "markdown",
   "metadata": {},
   "source": [
    "## Hojas de excel\n",
    "\n",
    "Se procedera a realizar una transformacion en los datos y sus tipos. Ademas de realizar una normalizacion a las tablas(campo en comun \"Provincia\"), para que nuestro modelo relacional pueda funcionar.\n",
    "\n",
    "De las distintas hojas o tablas que se poseen, solo se utilizaran las siguientes debido a su nivel de relevancia:\n",
    "\n",
    "**1. Acc_vel_loc_sinrangos:**\n",
    "\n",
    "**2. Velocidad_sin_Rangos:**\n",
    "\n",
    "**5. Accesos_tecnologia_localidad:**\n",
    "\n",
    "**6. Totales Accesos por Tecnología:**\n",
    "\n",
    "**8. Dial-BAf:**\n",
    "\n",
    "**9. Totales Dial-BAf:**\n",
    "\n",
    "**11. Penetración-hogares:**\n",
    "\n",
    "**14. Accesos por velocidad:**\n",
    "\n",
    "**15. Ingresos:**\n",
    "\n",
    "**Extra: 16: mapa_conectividad**\n"
   ]
  },
  {
   "cell_type": "markdown",
   "metadata": {},
   "source": [
    "# **Primer hoja; Acc_vel_loc_sinrangos**"
   ]
  },
  {
   "cell_type": "markdown",
   "metadata": {},
   "source": [
    "Debido a la robutez de los datos, se crearan rangos de los accesos a internet por sus velocidades.\n",
    "\n",
    "Para la interpretacion de la velocidad de conexion en las localidades de argentina, se procederan a seccionar en rangos decimales y dividiendo por 1/2 al rango siguiente.\n",
    "\n",
    "- df_int1['Mbps_5']: menos de 5 y otros\n",
    "- df_int1['Mbps_10']: mas de 5 a 10\n",
    "- df_int1['Mbps_50']: de 10 a 50\n",
    "- df_int1['Mbps_100']: de 50 a 100\n",
    "- df_int1['Mbps_500']: de 100 a 500\n",
    "- df_int1['Mbps_1000']: de +500"
   ]
  },
  {
   "cell_type": "code",
   "execution_count": 6,
   "metadata": {},
   "outputs": [
    {
     "name": "stdout",
     "output_type": "stream",
     "text": [
      "23\n"
     ]
    },
    {
     "name": "stderr",
     "output_type": "stream",
     "text": [
      "C:\\Users\\Pablo\\AppData\\Local\\Temp\\ipykernel_21308\\4135901677.py:16: FutureWarning: Downcasting behavior in `replace` is deprecated and will be removed in a future version. To retain the old behavior, explicitly call `result.infer_objects(copy=False)`. To opt-in to the future behavior, set `pd.set_option('future.no_silent_downcasting', True)`\n",
      "  df_int1[col] = df_int1[col].replace('Sin Datos', 0)\n"
     ]
    }
   ],
   "source": [
    "#primer hoja o primer dataframe\n",
    "df_int1 = dataframes['df_int1']\n",
    "### Creacion de las columnas de rangos de velocidad\n",
    "df_int1['Mbps_5'] = df_int1.iloc[:, 4:20].sum(axis=1)\n",
    "df_int1['Mbps_10'] = df_int1.iloc[:, 20:27].sum(axis=1)\n",
    "df_int1['Mbps_50'] = df_int1.iloc[:, 27:64].sum(axis=1)\n",
    "df_int1['Mbps_100'] = df_int1.iloc[:, 64:86].sum(axis=1)\n",
    "df_int1['Mbps_500'] = df_int1.iloc[:, 86:124].sum(axis=1)\n",
    "df_int1['Mbps_1000'] = df_int1.iloc[:, 124:136].sum(axis=1)\n",
    "#print(df_int1.iloc[:,124:136])\n",
    "# eliminamos las columnas que ya no sean necesarias\n",
    "df_int1 = df_int1.drop(columns=df_int1.columns[4:136])\n",
    "df_int1 = df_int1.rename(columns={'Link Indec':'link'})\n",
    "col = ['link']\n",
    "# Utiliza el método replace\n",
    "df_int1[col] = df_int1[col].replace('Sin Datos', 0)\n",
    "#normalizacion de provincia\n",
    "mapeo_provincias = {'caba': 'buenos aires','Capital Federal':'buenos aires','capital federal':'buenos aires',\n",
    "    'bs as': 'buenos aires', 'buenos aires': 'buenos aires',\n",
    "    'catamarca': 'catamarca', 'chaco': 'chaco', 'chubut': 'chubut',\n",
    "    'cordoba': 'córdoba', 'córdoba': 'córdoba', 'corrientes': 'corrientes',\n",
    "    'entre rios': 'entre ríos', 'entre ríos': 'entre ríos',\n",
    "    'formosa': 'formosa', 'jujuy': 'jujuy', 'la pampa': 'la pampa',\n",
    "    'la rioja': 'la rioja', 'mendoza': 'mendoza', 'misiones': 'misiones',\n",
    "    'neuquen': 'neuquén', 'neuquén': 'neuquén', 'rio negro': 'río negro',\n",
    "    'río negro': 'río negro', 'salta': 'salta', 'san juan': 'san juan',\n",
    "    'san luis': 'san luis', 'santa cruz': 'santa cruz', 'santa fe': 'santa fe',\n",
    "    'santiago del estero': 'santiago del estero', 'tierra del fuego': 'tierra del fuego',\n",
    "    'tucuman': 'tucumán', 'tucumán': 'tucumán'}\n",
    "df_int1['Provincia'] = df_int1['Provincia'].str.lower().map(mapeo_provincias)\n",
    "print(len(df_int1['Provincia'].unique()))"
   ]
  },
  {
   "cell_type": "code",
   "execution_count": 8,
   "metadata": {},
   "outputs": [
    {
     "data": {
      "text/html": [
       "<div>\n",
       "<style scoped>\n",
       "    .dataframe tbody tr th:only-of-type {\n",
       "        vertical-align: middle;\n",
       "    }\n",
       "\n",
       "    .dataframe tbody tr th {\n",
       "        vertical-align: top;\n",
       "    }\n",
       "\n",
       "    .dataframe thead th {\n",
       "        text-align: right;\n",
       "    }\n",
       "</style>\n",
       "<table border=\"1\" class=\"dataframe\">\n",
       "  <thead>\n",
       "    <tr style=\"text-align: right;\">\n",
       "      <th></th>\n",
       "      <th>Provincia</th>\n",
       "      <th>Partido</th>\n",
       "      <th>Localidad</th>\n",
       "      <th>link</th>\n",
       "      <th>Mbps_5</th>\n",
       "      <th>Mbps_10</th>\n",
       "      <th>Mbps_50</th>\n",
       "      <th>Mbps_100</th>\n",
       "      <th>Mbps_500</th>\n",
       "      <th>Mbps_1000</th>\n",
       "    </tr>\n",
       "  </thead>\n",
       "  <tbody>\n",
       "    <tr>\n",
       "      <th>471</th>\n",
       "      <td>buenos aires</td>\n",
       "      <td>Monte</td>\n",
       "      <td>Abbott</td>\n",
       "      <td>6547010</td>\n",
       "      <td>0.0</td>\n",
       "      <td>18.0</td>\n",
       "      <td>302.0</td>\n",
       "      <td>0.0</td>\n",
       "      <td>0.0</td>\n",
       "      <td>0.0</td>\n",
       "    </tr>\n",
       "    <tr>\n",
       "      <th>1115</th>\n",
       "      <td>córdoba</td>\n",
       "      <td>Río Cuarto</td>\n",
       "      <td>Coronel Baigorria</td>\n",
       "      <td>14098090</td>\n",
       "      <td>1.0</td>\n",
       "      <td>0.0</td>\n",
       "      <td>0.0</td>\n",
       "      <td>0.0</td>\n",
       "      <td>0.0</td>\n",
       "      <td>0.0</td>\n",
       "    </tr>\n",
       "    <tr>\n",
       "      <th>2514</th>\n",
       "      <td>santa fe</td>\n",
       "      <td>Caseros</td>\n",
       "      <td>Bigand</td>\n",
       "      <td>82014040</td>\n",
       "      <td>7.0</td>\n",
       "      <td>1558.0</td>\n",
       "      <td>155.0</td>\n",
       "      <td>0.0</td>\n",
       "      <td>0.0</td>\n",
       "      <td>0.0</td>\n",
       "    </tr>\n",
       "    <tr>\n",
       "      <th>2856</th>\n",
       "      <td>santiago del estero</td>\n",
       "      <td>Alberdi</td>\n",
       "      <td>Donadeu</td>\n",
       "      <td>86014030</td>\n",
       "      <td>0.0</td>\n",
       "      <td>1.0</td>\n",
       "      <td>1.0</td>\n",
       "      <td>0.0</td>\n",
       "      <td>0.0</td>\n",
       "      <td>0.0</td>\n",
       "    </tr>\n",
       "    <tr>\n",
       "      <th>2857</th>\n",
       "      <td>santiago del estero</td>\n",
       "      <td>Alberdi</td>\n",
       "      <td>Sachayoj</td>\n",
       "      <td>86014040</td>\n",
       "      <td>174.0</td>\n",
       "      <td>27.0</td>\n",
       "      <td>7.0</td>\n",
       "      <td>0.0</td>\n",
       "      <td>0.0</td>\n",
       "      <td>0.0</td>\n",
       "    </tr>\n",
       "    <tr>\n",
       "      <th>999</th>\n",
       "      <td>córdoba</td>\n",
       "      <td>General Roca</td>\n",
       "      <td>PINCÉN</td>\n",
       "      <td>14035090</td>\n",
       "      <td>9.0</td>\n",
       "      <td>0.0</td>\n",
       "      <td>0.0</td>\n",
       "      <td>0.0</td>\n",
       "      <td>0.0</td>\n",
       "      <td>0.0</td>\n",
       "    </tr>\n",
       "    <tr>\n",
       "      <th>1444</th>\n",
       "      <td>entre ríos</td>\n",
       "      <td>La Paz</td>\n",
       "      <td>San Gustavo</td>\n",
       "      <td>30070070</td>\n",
       "      <td>309.0</td>\n",
       "      <td>31.0</td>\n",
       "      <td>0.0</td>\n",
       "      <td>0.0</td>\n",
       "      <td>0.0</td>\n",
       "      <td>0.0</td>\n",
       "    </tr>\n",
       "    <tr>\n",
       "      <th>1608</th>\n",
       "      <td>jujuy</td>\n",
       "      <td>Rinconada</td>\n",
       "      <td>Lagunillas de Farallón</td>\n",
       "      <td>38049010</td>\n",
       "      <td>0.0</td>\n",
       "      <td>1.0</td>\n",
       "      <td>0.0</td>\n",
       "      <td>0.0</td>\n",
       "      <td>0.0</td>\n",
       "      <td>0.0</td>\n",
       "    </tr>\n",
       "    <tr>\n",
       "      <th>1433</th>\n",
       "      <td>entre ríos</td>\n",
       "      <td>Gualeguaychú</td>\n",
       "      <td>Urdinarrain</td>\n",
       "      <td>30056110</td>\n",
       "      <td>9.0</td>\n",
       "      <td>1901.0</td>\n",
       "      <td>71.0</td>\n",
       "      <td>0.0</td>\n",
       "      <td>0.0</td>\n",
       "      <td>0.0</td>\n",
       "    </tr>\n",
       "    <tr>\n",
       "      <th>378</th>\n",
       "      <td>buenos aires</td>\n",
       "      <td>La Plata</td>\n",
       "      <td>Ringuelet</td>\n",
       "      <td>6441030</td>\n",
       "      <td>3.0</td>\n",
       "      <td>32.0</td>\n",
       "      <td>325.0</td>\n",
       "      <td>35.0</td>\n",
       "      <td>3843.0</td>\n",
       "      <td>185.0</td>\n",
       "    </tr>\n",
       "    <tr>\n",
       "      <th>2332</th>\n",
       "      <td>san juan</td>\n",
       "      <td>Capital</td>\n",
       "      <td>San Juan</td>\n",
       "      <td>70028010</td>\n",
       "      <td>13127.0</td>\n",
       "      <td>4116.0</td>\n",
       "      <td>33899.0</td>\n",
       "      <td>1.0</td>\n",
       "      <td>1185.0</td>\n",
       "      <td>0.0</td>\n",
       "    </tr>\n",
       "    <tr>\n",
       "      <th>822</th>\n",
       "      <td>chaco</td>\n",
       "      <td>General Güemes</td>\n",
       "      <td>El Sauzalito</td>\n",
       "      <td>22063030</td>\n",
       "      <td>121.0</td>\n",
       "      <td>0.0</td>\n",
       "      <td>0.0</td>\n",
       "      <td>0.0</td>\n",
       "      <td>0.0</td>\n",
       "      <td>0.0</td>\n",
       "    </tr>\n",
       "    <tr>\n",
       "      <th>2045</th>\n",
       "      <td>neuquén</td>\n",
       "      <td>Aluminé</td>\n",
       "      <td>Moquehue</td>\n",
       "      <td>58007015</td>\n",
       "      <td>82.0</td>\n",
       "      <td>100.0</td>\n",
       "      <td>16.0</td>\n",
       "      <td>0.0</td>\n",
       "      <td>0.0</td>\n",
       "      <td>0.0</td>\n",
       "    </tr>\n",
       "    <tr>\n",
       "      <th>2025</th>\n",
       "      <td>misiones</td>\n",
       "      <td>San Ignacio</td>\n",
       "      <td>General Urquiza</td>\n",
       "      <td>54098040</td>\n",
       "      <td>51.0</td>\n",
       "      <td>49.0</td>\n",
       "      <td>0.0</td>\n",
       "      <td>0.0</td>\n",
       "      <td>0.0</td>\n",
       "      <td>0.0</td>\n",
       "    </tr>\n",
       "    <tr>\n",
       "      <th>2004</th>\n",
       "      <td>misiones</td>\n",
       "      <td>Libertador Grl. San Martín</td>\n",
       "      <td>Puerto Rico</td>\n",
       "      <td>54077060</td>\n",
       "      <td>996.0</td>\n",
       "      <td>3643.0</td>\n",
       "      <td>639.0</td>\n",
       "      <td>0.0</td>\n",
       "      <td>0.0</td>\n",
       "      <td>0.0</td>\n",
       "    </tr>\n",
       "    <tr>\n",
       "      <th>1776</th>\n",
       "      <td>la rioja</td>\n",
       "      <td>Coronel Felipe Varela</td>\n",
       "      <td>Pagancillo</td>\n",
       "      <td>46028040</td>\n",
       "      <td>0.0</td>\n",
       "      <td>0.0</td>\n",
       "      <td>126.0</td>\n",
       "      <td>0.0</td>\n",
       "      <td>0.0</td>\n",
       "      <td>0.0</td>\n",
       "    </tr>\n",
       "    <tr>\n",
       "      <th>273</th>\n",
       "      <td>buenos aires</td>\n",
       "      <td>General Rodríguez</td>\n",
       "      <td>Barrio Ruta 24 Kilómetro 10</td>\n",
       "      <td>6364030</td>\n",
       "      <td>2.0</td>\n",
       "      <td>0.0</td>\n",
       "      <td>0.0</td>\n",
       "      <td>0.0</td>\n",
       "      <td>0.0</td>\n",
       "      <td>0.0</td>\n",
       "    </tr>\n",
       "    <tr>\n",
       "      <th>406</th>\n",
       "      <td>buenos aires</td>\n",
       "      <td>Lincoln</td>\n",
       "      <td>Arenaza</td>\n",
       "      <td>6469010</td>\n",
       "      <td>293.0</td>\n",
       "      <td>0.0</td>\n",
       "      <td>0.0</td>\n",
       "      <td>0.0</td>\n",
       "      <td>0.0</td>\n",
       "      <td>0.0</td>\n",
       "    </tr>\n",
       "    <tr>\n",
       "      <th>2565</th>\n",
       "      <td>santa fe</td>\n",
       "      <td>Constitución</td>\n",
       "      <td>Cepeda</td>\n",
       "      <td>82028060</td>\n",
       "      <td>0.0</td>\n",
       "      <td>0.0</td>\n",
       "      <td>4.0</td>\n",
       "      <td>0.0</td>\n",
       "      <td>0.0</td>\n",
       "      <td>0.0</td>\n",
       "    </tr>\n",
       "    <tr>\n",
       "      <th>934</th>\n",
       "      <td>córdoba</td>\n",
       "      <td>Calamuchita</td>\n",
       "      <td>Los Cóndores</td>\n",
       "      <td>14007110</td>\n",
       "      <td>504.0</td>\n",
       "      <td>432.0</td>\n",
       "      <td>4.0</td>\n",
       "      <td>0.0</td>\n",
       "      <td>0.0</td>\n",
       "      <td>0.0</td>\n",
       "    </tr>\n",
       "  </tbody>\n",
       "</table>\n",
       "</div>"
      ],
      "text/plain": [
       "                Provincia                     Partido  \\\n",
       "471          buenos aires                       Monte   \n",
       "1115              córdoba                  Río Cuarto   \n",
       "2514             santa fe                     Caseros   \n",
       "2856  santiago del estero                     Alberdi   \n",
       "2857  santiago del estero                     Alberdi   \n",
       "999               córdoba                General Roca   \n",
       "1444           entre ríos                      La Paz   \n",
       "1608                jujuy                   Rinconada   \n",
       "1433           entre ríos                Gualeguaychú   \n",
       "378          buenos aires                    La Plata   \n",
       "2332             san juan                     Capital   \n",
       "822                 chaco              General Güemes   \n",
       "2045              neuquén                     Aluminé   \n",
       "2025             misiones                 San Ignacio   \n",
       "2004             misiones  Libertador Grl. San Martín   \n",
       "1776             la rioja       Coronel Felipe Varela   \n",
       "273          buenos aires           General Rodríguez   \n",
       "406          buenos aires                     Lincoln   \n",
       "2565             santa fe                Constitución   \n",
       "934               córdoba                 Calamuchita   \n",
       "\n",
       "                        Localidad      link   Mbps_5  Mbps_10  Mbps_50  \\\n",
       "471                        Abbott   6547010      0.0     18.0    302.0   \n",
       "1115            Coronel Baigorria  14098090      1.0      0.0      0.0   \n",
       "2514                       Bigand  82014040      7.0   1558.0    155.0   \n",
       "2856                      Donadeu  86014030      0.0      1.0      1.0   \n",
       "2857                     Sachayoj  86014040    174.0     27.0      7.0   \n",
       "999                        PINCÉN  14035090      9.0      0.0      0.0   \n",
       "1444                  San Gustavo  30070070    309.0     31.0      0.0   \n",
       "1608       Lagunillas de Farallón  38049010      0.0      1.0      0.0   \n",
       "1433                  Urdinarrain  30056110      9.0   1901.0     71.0   \n",
       "378                     Ringuelet   6441030      3.0     32.0    325.0   \n",
       "2332                     San Juan  70028010  13127.0   4116.0  33899.0   \n",
       "822                  El Sauzalito  22063030    121.0      0.0      0.0   \n",
       "2045                     Moquehue  58007015     82.0    100.0     16.0   \n",
       "2025              General Urquiza  54098040     51.0     49.0      0.0   \n",
       "2004                  Puerto Rico  54077060    996.0   3643.0    639.0   \n",
       "1776                   Pagancillo  46028040      0.0      0.0    126.0   \n",
       "273   Barrio Ruta 24 Kilómetro 10   6364030      2.0      0.0      0.0   \n",
       "406                       Arenaza   6469010    293.0      0.0      0.0   \n",
       "2565                       Cepeda  82028060      0.0      0.0      4.0   \n",
       "934                  Los Cóndores  14007110    504.0    432.0      4.0   \n",
       "\n",
       "      Mbps_100  Mbps_500  Mbps_1000  \n",
       "471        0.0       0.0        0.0  \n",
       "1115       0.0       0.0        0.0  \n",
       "2514       0.0       0.0        0.0  \n",
       "2856       0.0       0.0        0.0  \n",
       "2857       0.0       0.0        0.0  \n",
       "999        0.0       0.0        0.0  \n",
       "1444       0.0       0.0        0.0  \n",
       "1608       0.0       0.0        0.0  \n",
       "1433       0.0       0.0        0.0  \n",
       "378       35.0    3843.0      185.0  \n",
       "2332       1.0    1185.0        0.0  \n",
       "822        0.0       0.0        0.0  \n",
       "2045       0.0       0.0        0.0  \n",
       "2025       0.0       0.0        0.0  \n",
       "2004       0.0       0.0        0.0  \n",
       "1776       0.0       0.0        0.0  \n",
       "273        0.0       0.0        0.0  \n",
       "406        0.0       0.0        0.0  \n",
       "2565       0.0       0.0        0.0  \n",
       "934        0.0       0.0        0.0  "
      ]
     },
     "execution_count": 8,
     "metadata": {},
     "output_type": "execute_result"
    }
   ],
   "source": [
    "df_int1.sample(20)"
   ]
  },
  {
   "cell_type": "markdown",
   "metadata": {},
   "source": [
    "Podemos observar que la mayor concentracion de conecciones se encuentran en los rangos de 5 a 10(mbps_10) y en el rango de 100 a 500(mbps_500)"
   ]
  },
  {
   "cell_type": "markdown",
   "metadata": {},
   "source": [
    "# **Segunda hoja: Velocidad_sin_Rangos**\n",
    "Esta tabla tambien se seccionara debido a la cantidad de columnas existentes en la tabla\n",
    "\n",
    "- df_int2['Mbps_5']: menos de 5 y otros\n",
    "- df_int2['Mbps_10']: mas de 5 a 10\n",
    "- df_int2['Mbps_50']: de 10 a 50\n",
    "- df_int2['Mbps_100']: de 50 a 100\n",
    "- df_int2['Mbps_500']: de 100 a 500\n",
    "- df_int2['Mbps_1000']: de 500 a 1000\n",
    "- df_int2['Mbps_5000']: de 1000 a 5000\n",
    "- df_int2['Mbps_10000']: de 5000 a 10000"
   ]
  },
  {
   "cell_type": "code",
   "execution_count": 4,
   "metadata": {},
   "outputs": [
    {
     "name": "stdout",
     "output_type": "stream",
     "text": [
      "23\n",
      "<class 'pandas.core.frame.DataFrame'>\n",
      "Index: 600 entries, 0 to 599\n",
      "Data columns (total 12 columns):\n",
      " #   Column      Non-Null Count  Dtype  \n",
      "---  ------      --------------  -----  \n",
      " 0   Año         600 non-null    float64\n",
      " 1   Trimestre   600 non-null    float64\n",
      " 2   Provincia   600 non-null    object \n",
      " 3   Otros       600 non-null    float64\n",
      " 4   Mbps_5      600 non-null    float64\n",
      " 5   Mbps_10     600 non-null    float64\n",
      " 6   Mbps_50     600 non-null    float64\n",
      " 7   Mbps_100    600 non-null    float64\n",
      " 8   Mbps_500    600 non-null    float64\n",
      " 9   Mbps_1000   600 non-null    float64\n",
      " 10  Mbps_5000   600 non-null    float64\n",
      " 11  Mbps_10000  600 non-null    float64\n",
      "dtypes: float64(11), object(1)\n",
      "memory usage: 60.9+ KB\n"
     ]
    }
   ],
   "source": [
    "df_int2 = dataframes['df_int2']\n",
    "df_int2['Mbps_5'] = df_int2.iloc[:, 4:25].sum(axis=1)\n",
    "df_int2['Mbps_10'] = df_int2.iloc[:, 25:32].sum(axis=1)\n",
    "df_int2['Mbps_50'] = df_int2.iloc[:, 32:76].sum(axis=1)\n",
    "df_int2['Mbps_100'] = df_int2.iloc[:, 76:113].sum(axis=1)\n",
    "df_int2['Mbps_500'] = df_int2.iloc[:, 113:168].sum(axis=1)\n",
    "df_int2['Mbps_1000'] = df_int2.iloc[:, 168:179].sum(axis=1)\n",
    "df_int2['Mbps_5000'] = df_int2.iloc[:, 179:188].sum(axis=1)\n",
    "df_int2['Mbps_10000'] = df_int2.iloc[:, 188:193].sum(axis=1)\n",
    "df_int2 = df_int2.drop(columns=df_int2.columns[4:193])\n",
    "df_int2 = df_int2.dropna(subset=['Provincia'],axis=0)\n",
    "df_int2['Provincia'] = df_int2['Provincia'].str.lower().map(mapeo_provincias)\n",
    "print(len(df_int2['Provincia'].unique()))\n",
    "df_int2.replace({np.inf: np.nan, -np.inf: np.nan}, inplace=True)\n",
    "df_int2 = df_int2.fillna(0)\n",
    "df_int2.info()"
   ]
  },
  {
   "cell_type": "markdown",
   "metadata": {},
   "source": [
    "# **quinta hoja: Accesos_tecnologia_localidad**"
   ]
  },
  {
   "cell_type": "code",
   "execution_count": 5,
   "metadata": {},
   "outputs": [
    {
     "name": "stdout",
     "output_type": "stream",
     "text": [
      "23\n"
     ]
    },
    {
     "name": "stderr",
     "output_type": "stream",
     "text": [
      "C:\\Users\\Pablo\\AppData\\Local\\Temp\\ipykernel_20852\\3367713688.py:8: FutureWarning: Downcasting behavior in `replace` is deprecated and will be removed in a future version. To retain the old behavior, explicitly call `result.infer_objects(copy=False)`. To opt-in to the future behavior, set `pd.set_option('future.no_silent_downcasting', True)`\n",
      "  df_int5[col] = df_int5[col].replace('Sin Datos', 0)\n"
     ]
    }
   ],
   "source": [
    "df_int5 = dataframes['df_int5']\n",
    "df_int5 = df_int5.rename(columns={'Link Indec':'link'})\n",
    "df_int5 = df_int5.rename(columns={'DIAL UP':'dialup'})\n",
    "df_int5 = df_int5.rename(columns={'FIBRA OPTICA':'fibraoptica'})\n",
    "df_int5 = df_int5.rename(columns={'Total general':'totalgeneral'})\n",
    "col = ['link']\n",
    "# Utiliza el método replace\n",
    "df_int5[col] = df_int5[col].replace('Sin Datos', 0)\n",
    "df_int5['Provincia'] = df_int5['Provincia'].str.lower().map(mapeo_provincias)\n",
    "print(len(df_int5['Provincia'].unique()))\n",
    "df_int5.replace({np.inf: np.nan, -np.inf: np.nan}, inplace=True)\n",
    "df_int5 = df_int5.fillna(0)"
   ]
  },
  {
   "cell_type": "markdown",
   "metadata": {},
   "source": [
    "# **sexta hoja: Totales Accesos por Tecnología**"
   ]
  },
  {
   "cell_type": "code",
   "execution_count": 6,
   "metadata": {},
   "outputs": [],
   "source": [
    "df_int6 = dataframes['df_int6']\n",
    "df_int6 = df_int6.rename(columns={'Fibra óptica':'fibraoptica'})\n",
    "df_int6.replace({np.inf: np.nan, -np.inf: np.nan}, inplace=True)\n",
    "df_int6 = df_int6.fillna(0)"
   ]
  },
  {
   "cell_type": "markdown",
   "metadata": {},
   "source": [
    "# **octava hoja: Dial-BAf**"
   ]
  },
  {
   "cell_type": "code",
   "execution_count": 7,
   "metadata": {},
   "outputs": [
    {
     "name": "stdout",
     "output_type": "stream",
     "text": [
      "23\n"
     ]
    }
   ],
   "source": [
    "df_int8 = dataframes['df_int8']\n",
    "df_int8 = df_int8.rename(columns={'Banda ancha fija':'banda_ancha_fija'})\n",
    "df_int8 = df_int8.rename(columns={'Dial up':'dialup'})\n",
    "df_int8['Provincia'] = df_int8['Provincia'].str.lower().map(mapeo_provincias)\n",
    "print(len(df_int8['Provincia'].unique()))\n",
    "df_int8.replace({np.inf: np.nan, -np.inf: np.nan}, inplace=True)\n",
    "df_int8 = df_int8.fillna(0)"
   ]
  },
  {
   "cell_type": "markdown",
   "metadata": {},
   "source": [
    "# **novena hoja: Totales Dial-BAf**"
   ]
  },
  {
   "cell_type": "code",
   "execution_count": 8,
   "metadata": {},
   "outputs": [],
   "source": [
    "df_int9 = dataframes['df_int9']\n",
    "df_int9 = df_int9.rename(columns={'Banda ancha fija':'banda_ancha_fija'})\n",
    "df_int9 = df_int9.rename(columns={'Dial up':'dialup'})\n",
    "df_int9.replace({np.inf: np.nan, -np.inf: np.nan}, inplace=True)\n",
    "df_int9 = df_int9.fillna(0)"
   ]
  },
  {
   "cell_type": "markdown",
   "metadata": {},
   "source": [
    "# **onceava hoja: Penetración-hogares**"
   ]
  },
  {
   "cell_type": "code",
   "execution_count": 9,
   "metadata": {},
   "outputs": [
    {
     "name": "stdout",
     "output_type": "stream",
     "text": [
      "23\n"
     ]
    }
   ],
   "source": [
    "df_int11 = dataframes['df_int11']\n",
    "df_int11 = df_int11.rename(columns={'Accesos por cada 100 hogares':'acceso_cada_100_hogares'})\n",
    "df_int11['Provincia'] = df_int11['Provincia'].str.lower().map(mapeo_provincias)\n",
    "print(len(df_int11['Provincia'].unique()))\n",
    "df_int11.replace({np.inf: np.nan, -np.inf: np.nan}, inplace=True)\n",
    "df_int11 = df_int11.fillna(0)"
   ]
  },
  {
   "cell_type": "markdown",
   "metadata": {},
   "source": [
    "# **catorceava hoja: Accesos por velocidad**"
   ]
  },
  {
   "cell_type": "code",
   "execution_count": 10,
   "metadata": {},
   "outputs": [
    {
     "name": "stdout",
     "output_type": "stream",
     "text": [
      "23\n"
     ]
    }
   ],
   "source": [
    "df_int14 = dataframes['df_int14']\n",
    "df_int14 = df_int14.rename(columns={'HASTA 512 kbps':'kbps_512'})\n",
    "df_int14 = df_int14.rename(columns={'+ 512 Kbps - 1 Mbps':'kbps_1024'})\n",
    "df_int14 = df_int14.rename(columns={'+ 1 Mbps - 6 Mbps':'Mbps_6'})\n",
    "df_int14 = df_int14.rename(columns={'+ 6 Mbps - 10 Mbps':'Mbps_10'})\n",
    "df_int14 = df_int14.rename(columns={'+ 10 Mbps - 20 Mbps':'Mbps_20'})\n",
    "df_int14 = df_int14.rename(columns={'+ 20 Mbps - 30 Mbps':'Mbps_30'})\n",
    "df_int14 = df_int14.rename(columns={'+ 30 Mbps':'Mbps_mas_30'})\n",
    "df_int14['Provincia'] = df_int14['Provincia'].str.lower().map(mapeo_provincias)\n",
    "print(len(df_int14['Provincia'].unique()))\n",
    "df_int14.replace({np.inf: np.nan, -np.inf: np.nan}, inplace=True)\n",
    "df_int14 = df_int14.fillna(0)"
   ]
  },
  {
   "cell_type": "markdown",
   "metadata": {},
   "source": [
    "# **quinceava hoja: Ingresos**"
   ]
  },
  {
   "cell_type": "code",
   "execution_count": 11,
   "metadata": {},
   "outputs": [],
   "source": [
    "df_int15 = dataframes['df_int15']\n",
    "df_int15 = df_int15.rename(columns={'Ingresos (miles de pesos)':'Ingresos'})\n",
    "df_int15.replace({np.inf: np.nan, -np.inf: np.nan}, inplace=True)\n",
    "df_int15 = df_int15.fillna(0)"
   ]
  },
  {
   "cell_type": "markdown",
   "metadata": {},
   "source": [
    "# Creacion de las estructuras de las tablas de sql server"
   ]
  },
  {
   "cell_type": "code",
   "execution_count": 12,
   "metadata": {},
   "outputs": [],
   "source": [
    "# primera hoja: Acc_vel_loc_sinrangos\n",
    "column_names_1 = df_int1.columns.tolist()\n",
    "data_types_t1 = {\n",
    "    'Provincia': 'NVARCHAR(100)',\n",
    "    'Partido': 'NVARCHAR(100)',\n",
    "    'Localidad': 'NVARCHAR(100)',\n",
    "    'link': 'INT',\n",
    "    'Mbps_5': 'FLOAT',\n",
    "    'Mbps_10': 'FLOAT',\n",
    "    'Mbps_50': 'FLOAT',\n",
    "    'Mbps_100': 'FLOAT',\n",
    "    'Mbps_500': 'FLOAT',\n",
    "    'Mbps_1000': 'FLOAT'}\n",
    "# segunda hoja: Velocidad_sin_Rangos\n",
    "column_names_2 = df_int2.columns.tolist()\n",
    "data_types_t2 = {\n",
    "    'Año': 'INT',\n",
    "    'Trimestre': 'INT',\n",
    "    'Provincia': 'NVARCHAR(100)',\n",
    "    'Otros': 'FLOAT',\n",
    "    'Mbps_5': 'FLOAT',\n",
    "    'Mbps_10': 'FLOAT',\n",
    "    'Mbps_50': 'FLOAT',\n",
    "    'Mbps_100': 'FLOAT',\n",
    "    'Mbps_500': 'FLOAT',\n",
    "    'Mbps_1000': 'FLOAT',\n",
    "    'Mbps_5000': 'FLOAT',\n",
    "    'Mbps_10000': 'FLOAT'}\n",
    "\n",
    "#quinta hoja: Accesos_tecnologia_localidad\n",
    "column_names_5 = df_int5.columns.tolist()\n",
    "data_types_t5 = {\n",
    "    'Provincia': 'NVARCHAR(100)',\n",
    "    'Partido': 'NVARCHAR(100)',\n",
    "    'Localidad': 'NVARCHAR(100)',\n",
    "    'link': 'INT',\n",
    "    'ADSL': 'FLOAT',\n",
    "    'CABLEMODEM': 'FLOAT',\n",
    "    'dialup': 'FLOAT',\n",
    "    'fibraoptica': 'FLOAT',\n",
    "    'OTROS': 'FLOAT',\n",
    "    'SATELITAL': 'FLOAT',\n",
    "    'WIMAX': 'FLOAT',\n",
    "    'WIRELESS': 'FLOAT',\n",
    "    'totalgeneral': 'FLOAT'}\n",
    "    \n",
    "#sexta hoja: Totales Accesos por Tecnología\n",
    "#df_int6['ADSL'] = df_int6['ADSL'].astype(float)\n",
    "column_names_6 = df_int6.columns.tolist()\n",
    "data_types_t6 = {\n",
    "    'Año': 'INT',\n",
    "    'Trimestre': 'INT',\n",
    "    'ADSL': 'INT',\n",
    "    'Cablemodem': 'INT',\n",
    "    'fibraoptica': 'INT',\n",
    "    'Wireless': 'INT',\n",
    "    'Otros': 'INT',\n",
    "    'Total': 'INT',\n",
    "    'Periodo': 'NVARCHAR(100)'}\n",
    "#octava hoja: Dial-BAf\n",
    "column_names_8 = df_int8.columns.tolist()\n",
    "data_types_t8 = {\n",
    "    'Año': 'INT',\n",
    "    'Trimestre': 'INT',\n",
    "    'Provincia': 'NVARCHAR(100)',\n",
    "    'banda_ancha_fija': 'FLOAT',\n",
    "    'dialup': 'FLOAT',\n",
    "    'Total': 'FLOAT'}\n",
    "#novena hoja: Dial-BAf\n",
    "column_names_9 = df_int9.columns.tolist()\n",
    "data_types_t9 = {\n",
    "    'Año': 'INT',\n",
    "    'Trimestre': 'INT',\n",
    "    'banda_ancha_fija': 'FLOAT',\n",
    "    'dialup': 'FLOAT',\n",
    "    'Total': 'FLOAT',\n",
    "    'Periodo': 'NVARCHAR(50)'}\n",
    "\n",
    "\n",
    "#onceava hoja: Penetración-hogares\n",
    "column_names_11 = df_int11.columns.tolist()\n",
    "data_types_t11 = {\n",
    "    'Año': 'INT',\n",
    "    'Trimestre': 'INT',\n",
    "    'Provincia': 'NVARCHAR(100)',\n",
    "    'acceso_cada_100_hogares': 'FLOAT'}\n",
    "\n",
    "#catorceava hoja: Accesos por velocidad\n",
    "column_names_14 = df_int14.columns.tolist()\n",
    "data_types_t14 = {\n",
    "    'Año': 'INT',\n",
    "    'Trimestre': 'INT',\n",
    "    'Provincia': 'NVARCHAR(100)',\n",
    "    'kbps_512': 'FLOAT',\n",
    "    'kbps_1024': 'FLOAT',\n",
    "    'Mbps_6': 'FLOAT',\n",
    "    'Mbps_10': 'FLOAT',\n",
    "    'Mbps_20': 'FLOAT',\n",
    "    'Mbps_30': 'FLOAT',\n",
    "    'Mbps_mas_30': 'FLOAT',\n",
    "    'OTROS': 'FLOAT',\n",
    "    'Total': 'FLOAT'}\n",
    "#quinceava hoja: Ingresos\n",
    "column_names_15 = df_int15.columns.tolist()\n",
    "data_types_t15 = {\n",
    "    'Año': 'INT',\n",
    "    'Trimestre': 'INT',\n",
    "    'Ingresos': 'FLOAT',\n",
    "    'Periodo': 'NVARCHAR(100)'}\n",
    "\n"
   ]
  },
  {
   "cell_type": "code",
   "execution_count": 13,
   "metadata": {},
   "outputs": [],
   "source": [
    "# Valores para los tipos de datos\n",
    "columns_sql_1 = ', '.join([f\"{col} {data_types_t1[col]}\" for col in column_names_1])\n",
    "columns_sql_2 = ', '.join([f\"{col} {data_types_t2[col]}\" for col in column_names_2])\n",
    "columns_sql_5 = ', '.join([f\"{col} {data_types_t5[col]}\" for col in column_names_5])\n",
    "columns_sql_6 = ', '.join([f\"{col} {data_types_t6[col]}\" for col in column_names_6])\n",
    "columns_sql_8 = ', '.join([f\"{col} {data_types_t8[col]}\" for col in column_names_8])\n",
    "columns_sql_9 = ', '.join([f\"{col} {data_types_t9[col]}\" for col in column_names_9])\n",
    "columns_sql_11 = ', '.join([f\"{col} {data_types_t11[col]}\" for col in column_names_11])\n",
    "columns_sql_14 = ', '.join([f\"{col} {data_types_t14[col]}\" for col in column_names_14])\n",
    "columns_sql_15 = ', '.join([f\"{col} {data_types_t15[col]}\" for col in column_names_15])\n",
    "\n",
    "# nombres de las tablas\n",
    "table_name_1 = 'Acc_vel_loc_sinrangos'\n",
    "table_name_2 = 'Velocidad_sin_Rangos'\n",
    "table_name_5 = 'Accesos_tecnologia_localidad'\n",
    "table_name_6 = 'Totales_Accesos_por_Tecnología'\n",
    "table_name_8 = 'Dial_BAf'\n",
    "table_name_9 = 'Totales_Dial_BAf'\n",
    "table_name_11 = 'Penetración_hogares'\n",
    "table_name_14 = 'Accesos_por_velocidad'\n",
    "table_name_15 = 'Ingresos'\n",
    "\n",
    "#Consulta de creacion de tablas\n",
    "create_table_sql_1 = f\"CREATE TABLE {table_name_1} ({columns_sql_1});\"\n",
    "create_table_sql_2 = f\"CREATE TABLE {table_name_2} ({columns_sql_2});\"\n",
    "create_table_sql_5 = f\"CREATE TABLE {table_name_5} ({columns_sql_5});\"\n",
    "create_table_sql_6 = f\"CREATE TABLE {table_name_6} ({columns_sql_6});\"\n",
    "create_table_sql_8 = f\"CREATE TABLE {table_name_8} ({columns_sql_8});\"\n",
    "create_table_sql_9 = f\"CREATE TABLE {table_name_9} ({columns_sql_9});\"\n",
    "create_table_sql_11 = f\"CREATE TABLE {table_name_11} ({columns_sql_11});\"\n",
    "create_table_sql_14 = f\"CREATE TABLE {table_name_14} ({columns_sql_14});\"\n",
    "create_table_sql_15 = f\"CREATE TABLE {table_name_15} ({columns_sql_15});\""
   ]
  },
  {
   "cell_type": "markdown",
   "metadata": {},
   "source": [
    "# conexion a la base de datos"
   ]
  },
  {
   "cell_type": "code",
   "execution_count": 14,
   "metadata": {},
   "outputs": [],
   "source": [
    "import pyodbc\n",
    "server_name = 'DESKTOP-SGL4P89'\n",
    "nombre_bd = 'Telecomunicacion_Enacom'\n",
    "user = 'sa'\n",
    "password = 'pablo'\n",
    "conexion_str = (\n",
    "    f'DRIVER={{ODBC Driver 17 for SQL Server}};'\n",
    "    f'SERVER={server_name};'\n",
    "    f'DATABASE={nombre_bd};'\n",
    "    f'UID={user};'\n",
    "    f'PWD={password}'\n",
    ")\n",
    "\n",
    "conn = pyodbc.connect(conexion_str)\n",
    "cursor = conn.cursor() # Crear un cursor"
   ]
  },
  {
   "cell_type": "markdown",
   "metadata": {},
   "source": [
    "# Creacion de las tablas de sql server\n",
    "Considerar eliminar los espacios de los nombres de las columnas de los dataframes"
   ]
  },
  {
   "cell_type": "code",
   "execution_count": 15,
   "metadata": {},
   "outputs": [
    {
     "data": {
      "text/plain": [
       "<pyodbc.Cursor at 0x2ddfc6286b0>"
      ]
     },
     "execution_count": 15,
     "metadata": {},
     "output_type": "execute_result"
    }
   ],
   "source": [
    "cursor.execute(create_table_sql_1)\n",
    "cursor.execute(create_table_sql_2)\n",
    "cursor.execute(create_table_sql_5)\n",
    "cursor.execute(create_table_sql_6)\n",
    "cursor.execute(create_table_sql_8)\n",
    "cursor.execute(create_table_sql_9)\n",
    "cursor.execute(create_table_sql_11)\n",
    "cursor.execute(create_table_sql_14)\n",
    "cursor.execute(create_table_sql_15)"
   ]
  },
  {
   "cell_type": "markdown",
   "metadata": {},
   "source": [
    "# Carga de la informacion en la base de datos"
   ]
  },
  {
   "cell_type": "code",
   "execution_count": 16,
   "metadata": {},
   "outputs": [],
   "source": [
    "# consultas INSERT para las tablas\n",
    "insert_sql_1 = f\"INSERT INTO {table_name_1} ({', '.join(df_int1.columns)}) VALUES ({', '.join(['?' for _ in df_int1.columns])})\"\n",
    "insert_sql_2 = f\"INSERT INTO {table_name_2} ({', '.join(df_int2.columns)}) VALUES ({', '.join(['?' for _ in df_int2.columns])})\"\n",
    "insert_sql_5 = f\"INSERT INTO {table_name_5} ({', '.join(df_int5.columns)}) VALUES ({', '.join(['?' for _ in df_int5.columns])})\"\n",
    "insert_sql_6 = f\"INSERT INTO {table_name_6} ({', '.join(df_int6.columns)}) VALUES ({', '.join(['?' for _ in df_int6.columns])})\"\n",
    "insert_sql_8 = f\"INSERT INTO {table_name_8} ({', '.join(df_int8.columns)}) VALUES ({', '.join(['?' for _ in df_int8.columns])})\"\n",
    "insert_sql_9 = f\"INSERT INTO {table_name_9} ({', '.join(df_int9.columns)}) VALUES ({', '.join(['?' for _ in df_int9.columns])})\"\n",
    "insert_sql_11 = f\"INSERT INTO {table_name_11} ({', '.join(df_int11.columns)}) VALUES ({', '.join(['?' for _ in df_int11.columns])})\"\n",
    "insert_sql_14 = f\"INSERT INTO {table_name_14} ({', '.join(df_int14.columns)}) VALUES ({', '.join(['?' for _ in df_int14.columns])})\"\n",
    "insert_sql_15 = f\"INSERT INTO {table_name_15} ({', '.join(df_int15.columns)}) VALUES ({', '.join(['?' for _ in df_int15.columns])})\"\n"
   ]
  },
  {
   "cell_type": "markdown",
   "metadata": {},
   "source": [
    "# Condiciones necesarias para evitar errores\n",
    "- nombres de las columnas sin espacios\n",
    "- nombres de las tablas sin espacios ni guiones medios\n",
    "- no tener valores nulos ni inf\n",
    "- los tipos de datos deben coincidir en todos sus valores de las filas (reemplazar inf y -inf por nan y nan por 0) porque sql server no puede interpretarlos.\n",
    "- Usar corchetes en el nombre de las columnas"
   ]
  },
  {
   "cell_type": "code",
   "execution_count": 17,
   "metadata": {},
   "outputs": [],
   "source": [
    "\n",
    "for index, row in df_int1.iterrows():\n",
    "    cursor.execute(insert_sql_1, tuple(row))\n",
    "    \n",
    "for index, row in df_int2.iterrows():\n",
    "    cursor.execute(insert_sql_2, tuple(row))\n",
    "\n",
    "for index, row in df_int5.iterrows():\n",
    "    cursor.execute(insert_sql_5, tuple(row))\n",
    "\n",
    "for index, row in df_int6.iterrows():\n",
    "    cursor.execute(insert_sql_6, tuple(row))\n",
    "\n",
    "for index, row in df_int8.iterrows():\n",
    "    cursor.execute(insert_sql_8, tuple(row))\n",
    "\n",
    "for index, row in df_int9.iterrows():\n",
    "    cursor.execute(insert_sql_9, tuple(row))\n",
    "\n",
    "for index, row in df_int11.iterrows():\n",
    "    cursor.execute(insert_sql_11, tuple(row))\n",
    "\n",
    "for index, row in df_int14.iterrows():\n",
    "    cursor.execute(insert_sql_14, tuple(row))\n",
    "\n",
    "for index, row in df_int15.iterrows():\n",
    "    cursor.execute(insert_sql_15, tuple(row))"
   ]
  },
  {
   "cell_type": "markdown",
   "metadata": {},
   "source": [
    "# 16. Extra; Tabla mapa conectividad."
   ]
  },
  {
   "cell_type": "code",
   "execution_count": 18,
   "metadata": {},
   "outputs": [],
   "source": [
    "df_mp = pd.read_excel('data_pi02/mapa_conectividad.xlsx')"
   ]
  },
  {
   "cell_type": "code",
   "execution_count": 19,
   "metadata": {},
   "outputs": [],
   "source": [
    "df_mp['Cablemódem'] = df_mp['Cablemódem'].replace('--','0')\n",
    "df_mp['Cablemódem'] = df_mp['Cablemódem'].replace('Sí','1')\n",
    "df_mp['Cablemódem'] = df_mp['Cablemódem'].astype('int64')\n",
    "#df['sales'] = df['sales'].astype('float64')\n",
    "\n",
    "df_mp['ADSL'] = df_mp['ADSL'].replace('--','0')\n",
    "df_mp['ADSL'] = df_mp['ADSL'].replace('Sí','1')\n",
    "df_mp['ADSL'] = df_mp['ADSL'].astype('int64')\n",
    "\n",
    "\n",
    "df_mp['Dial Up'] = df_mp['Dial Up'].replace('--','0')\n",
    "df_mp['Dial Up'] = df_mp['Dial Up'].replace('Sí','1')\n",
    "df_mp['Dial Up'] = df_mp['Dial Up'].astype('int64')\n",
    "df_mp = df_mp.rename(columns={'Dial Up':'dialup'})\n",
    "\n",
    "df_mp['Fibra óptica'] = df_mp['Fibra óptica'].replace('--','0')\n",
    "df_mp['Fibra óptica'] = df_mp['Fibra óptica'].replace('Sí','1')\n",
    "df_mp['Fibra óptica'] = df_mp['Fibra óptica'].astype('int64')\n",
    "df_mp = df_mp.rename(columns={'Fibra óptica':'fibraoptica'})\n",
    "\n",
    "df_mp['Satelital'] = df_mp['Satelital'].replace('--','0')\n",
    "df_mp['Satelital'] = df_mp['Satelital'].replace('Sí','1')\n",
    "df_mp['Satelital'] = df_mp['Satelital'].astype('int64')\n",
    "\n",
    "df_mp['Wireless'] = df_mp['Wireless'].replace('--','0')\n",
    "df_mp['Wireless'] = df_mp['Wireless'].replace('Sí','1')\n",
    "df_mp['Wireless'] = df_mp['Wireless'].astype('int64')\n",
    "\n",
    "df_mp['Telefonía Fija'] = df_mp['Telefonía Fija'].replace('--','0')\n",
    "df_mp['Telefonía Fija'] = df_mp['Telefonía Fija'].replace('Sí','1')\n",
    "df_mp['Telefonía Fija'] = df_mp['Telefonía Fija'].astype('int64')\n",
    "df_mp = df_mp.rename(columns={'Telefonía Fija':'telefoniafija'})\n",
    "\n",
    "df_mp['3G'] = df_mp['3G'].replace('--','0')\n",
    "df_mp['3G'] = df_mp['3G'].replace('Sí','1')\n",
    "df_mp['3G'] = df_mp['3G'].astype('int64')\n",
    "\n",
    "df_mp['4G'] = df_mp['4G'].replace('--','0')\n",
    "df_mp['4G'] = df_mp['4G'].replace('Sí','1')\n",
    "df_mp['4G'] = df_mp['4G'].astype('int64')\n",
    "\n",
    "#df_mp['Cablemódem'].replace('-','True',inplace=True)"
   ]
  },
  {
   "cell_type": "code",
   "execution_count": null,
   "metadata": {},
   "outputs": [],
   "source": []
  },
  {
   "cell_type": "code",
   "execution_count": 20,
   "metadata": {},
   "outputs": [],
   "source": [
    "df_mp.dropna(inplace=True,axis=0)"
   ]
  },
  {
   "cell_type": "code",
   "execution_count": 21,
   "metadata": {},
   "outputs": [],
   "source": [
    "df_mp['Provincia'] = df_mp['Provincia'].str.lower().map(mapeo_provincias)"
   ]
  },
  {
   "cell_type": "code",
   "execution_count": 22,
   "metadata": {},
   "outputs": [
    {
     "name": "stdout",
     "output_type": "stream",
     "text": [
      "<class 'pandas.core.frame.DataFrame'>\n",
      "Index: 4299 entries, 0 to 4310\n",
      "Data columns (total 16 columns):\n",
      " #   Column         Non-Null Count  Dtype  \n",
      "---  ------         --------------  -----  \n",
      " 0   Provincia      4299 non-null   object \n",
      " 1   Partido        4299 non-null   object \n",
      " 2   Localidad      4299 non-null   object \n",
      " 3   Población      4299 non-null   int64  \n",
      " 4   ADSL           4299 non-null   int64  \n",
      " 5   Cablemódem     4299 non-null   int64  \n",
      " 6   dialup         4299 non-null   int64  \n",
      " 7   fibraoptica    4299 non-null   int64  \n",
      " 8   Satelital      4299 non-null   int64  \n",
      " 9   Wireless       4299 non-null   int64  \n",
      " 10  telefoniafija  4299 non-null   int64  \n",
      " 11  3G             4299 non-null   int64  \n",
      " 12  4G             4299 non-null   int64  \n",
      " 13  Link           4299 non-null   float64\n",
      " 14  Latitud        4299 non-null   float64\n",
      " 15  Longitud       4299 non-null   float64\n",
      "dtypes: float64(3), int64(10), object(3)\n",
      "memory usage: 571.0+ KB\n"
     ]
    }
   ],
   "source": [
    "df_mp.info()"
   ]
  },
  {
   "cell_type": "code",
   "execution_count": 23,
   "metadata": {},
   "outputs": [],
   "source": [
    "column_names_mp = df_mp.columns.tolist()\n",
    "data_types_mp = {\n",
    "    'Provincia': 'NVARCHAR(100)',\n",
    "    'Partido': 'NVARCHAR(100)',\n",
    "    'Localidad': 'NVARCHAR(100)',\n",
    "    'Población': 'INT',\n",
    "    'ADSL': 'INT',\n",
    "    'Cablemódem': 'INT',\n",
    "    'dialup': 'INT',\n",
    "    'fibraoptica': 'INT',\n",
    "    'Satelital': 'INT',\n",
    "    'Wireless': 'INT',\n",
    "    'telefoniafija': 'INT',\n",
    "    '3G': 'INT',\n",
    "    '4G': 'INT',\n",
    "    'Link': 'FLOAT',\n",
    "    'Latitud': 'FLOAT',\n",
    "    'Longitud': 'FLOAT'}\n",
    "\n"
   ]
  },
  {
   "cell_type": "code",
   "execution_count": 24,
   "metadata": {},
   "outputs": [],
   "source": [
    "columns_sql_mp = ', '.join([f\"[{col}] {data_types_mp[col]}\" for col in column_names_mp])\n",
    "table_name_mp = 'mapa_conectividad'\n",
    "create_table_sql_mp = f\"CREATE TABLE {table_name_mp} ({columns_sql_mp});\"\n",
    "cursor.execute(create_table_sql_mp)\n",
    "columnas_separadas = [f\"[{col}]\" for col in df_mp.columns]# poner corchetes a los nombres de las columnas"
   ]
  },
  {
   "cell_type": "code",
   "execution_count": 25,
   "metadata": {},
   "outputs": [],
   "source": [
    "\n",
    "insert_sql_mp = f\"INSERT INTO {table_name_mp} ({', '.join(columnas_separadas)}) VALUES ({', '.join(['?' for _ in df_mp.columns])})\"\n",
    "# insercion de la data\n",
    "for index, row in df_mp.iterrows():\n",
    "    cursor.execute(insert_sql_mp, tuple(row))"
   ]
  },
  {
   "cell_type": "markdown",
   "metadata": {},
   "source": [
    "### Realizar un commit para guardar cambios y cerrar la coneccion"
   ]
  },
  {
   "cell_type": "code",
   "execution_count": 26,
   "metadata": {},
   "outputs": [],
   "source": [
    "conn.commit() # Confirmar la ejecución\n",
    "\n",
    "# Cerrar la conexión\n",
    "conn.close()"
   ]
  },
  {
   "cell_type": "markdown",
   "metadata": {},
   "source": [
    "### Datasets limpios"
   ]
  },
  {
   "cell_type": "code",
   "execution_count": 27,
   "metadata": {},
   "outputs": [],
   "source": [
    "df_int1.to_parquet('data_pi02/df_telecom_1.parquet',engine='pyarrow')\n",
    "df_int2.to_parquet('data_pi02/df_telecom_2.parquet',engine='pyarrow')\n",
    "df_int5.to_parquet('data_pi02/df_telecom_5.parquet',engine='pyarrow')\n",
    "df_int6.to_parquet('data_pi02/df_telecom_6.parquet',engine='pyarrow')\n",
    "df_int8.to_parquet('data_pi02/df_telecom_8.parquet',engine='pyarrow')\n",
    "df_int9.to_parquet('data_pi02/df_telecom_9.parquet',engine='pyarrow')\n",
    "df_int11.to_parquet('data_pi02/df_telecom_11.parquet',engine='pyarrow')\n",
    "df_int14.to_parquet('data_pi02/df_telecom_14.parquet',engine='pyarrow')\n",
    "df_int15.to_parquet('data_pi02/df_telecom_15.parquet',engine='pyarrow')"
   ]
  },
  {
   "cell_type": "code",
   "execution_count": 30,
   "metadata": {},
   "outputs": [],
   "source": [
    "df_mp.to_parquet('data_pi02/df_mapacon.parquet',engine='pyarrow')"
   ]
  },
  {
   "cell_type": "code",
   "execution_count": 29,
   "metadata": {},
   "outputs": [
    {
     "data": {
      "text/plain": [
       "'\\ncolumn_names = df_int3.columns.tolist()\\ndata_types = {\\n    \\'Año\\': \\'INT\\',\\n    \\'Trimestre\\': \\'INT\\',\\n    \\'Provincia\\': \\'NVARCHAR(50)\\',\\n    \\'Mbps\\': \\'FLOAT\\'}\\n# Crear la parte del SQL para las columnas\\ncolumns_sql = \\', \\'.join([f\"{col} {data_types[col]}\" for col in column_names])\\n# Definir el nombre de la tabla\\ntable_name = \\'Velocidad_porcentaje_por_provincia\\'\\ncreate_table_sql = f\"CREATE TABLE {table_name} ({columns_sql});\"\\nprint(create_table_sql)\\n\\n#conexion a la base de datos\\nimport pyodbc\\nserver_name = \\'DESKTOP-SGL4P89\\'\\nnombre_bd = \\'Telecomunicacion_Enacom\\'\\nuser = \\'sa\\'\\npassword = \\'pablo\\'\\nconexion_str = (\\n    f\\'DRIVER={{ODBC Driver 17 for SQL Server}};\\'\\n    f\\'SERVER={server_name};\\'\\n    f\\'DATABASE={nombre_bd};\\'\\n    f\\'UID={user};\\'\\n    f\\'PWD={password}\\'\\n)\\n\\nconn = pyodbc.connect(conexion_str)\\ncursor = conn.cursor() # Crear un cursor\\n# Si la tabla no existe, descomentar esta linea\\n#cursor.execute(create_table_sql)\\n# Crear una plantilla de consulta de inserción\\ninsert_sql = f\"INSERT INTO {table_name} ({\\', \\'.join(df_int3.columns)}) VALUES ({\\', \\'.join([\\'?\\' for _ in df_int3.columns])})\"\\n\\n# Iterar a través del DataFrame e insertar los datos\\nfor index, row in df_int3.iterrows():\\n    cursor.execute(insert_sql, tuple(row))\\n\\nconn.commit() # Confirmar la ejecución\\n\\n# Cerrar la conexión\\nconn.close()\\n'"
      ]
     },
     "execution_count": 29,
     "metadata": {},
     "output_type": "execute_result"
    }
   ],
   "source": [
    "\"\"\"\n",
    "column_names = df_int3.columns.tolist()\n",
    "data_types = {\n",
    "    'Año': 'INT',\n",
    "    'Trimestre': 'INT',\n",
    "    'Provincia': 'NVARCHAR(50)',\n",
    "    'Mbps': 'FLOAT'}\n",
    "# Crear la parte del SQL para las columnas\n",
    "columns_sql = ', '.join([f\"{col} {data_types[col]}\" for col in column_names])\n",
    "# Definir el nombre de la tabla\n",
    "table_name = 'Velocidad_porcentaje_por_provincia'\n",
    "create_table_sql = f\"CREATE TABLE {table_name} ({columns_sql});\"\n",
    "print(create_table_sql)\n",
    "\n",
    "#conexion a la base de datos\n",
    "import pyodbc\n",
    "server_name = 'DESKTOP-SGL4P89'\n",
    "nombre_bd = 'Telecomunicacion_Enacom'\n",
    "user = 'sa'\n",
    "password = 'pablo'\n",
    "conexion_str = (\n",
    "    f'DRIVER={{ODBC Driver 17 for SQL Server}};'\n",
    "    f'SERVER={server_name};'\n",
    "    f'DATABASE={nombre_bd};'\n",
    "    f'UID={user};'\n",
    "    f'PWD={password}'\n",
    ")\n",
    "\n",
    "conn = pyodbc.connect(conexion_str)\n",
    "cursor = conn.cursor() # Crear un cursor\n",
    "# Si la tabla no existe, descomentar esta linea\n",
    "#cursor.execute(create_table_sql)\n",
    "# Crear una plantilla de consulta de inserción\n",
    "insert_sql = f\"INSERT INTO {table_name} ({', '.join(df_int3.columns)}) VALUES ({', '.join(['?' for _ in df_int3.columns])})\"\n",
    "\n",
    "# Iterar a través del DataFrame e insertar los datos\n",
    "for index, row in df_int3.iterrows():\n",
    "    cursor.execute(insert_sql, tuple(row))\n",
    "\n",
    "conn.commit() # Confirmar la ejecución\n",
    "\n",
    "# Cerrar la conexión\n",
    "conn.close()\n",
    "\"\"\""
   ]
  }
 ],
 "metadata": {
  "kernelspec": {
   "display_name": "venv",
   "language": "python",
   "name": "python3"
  },
  "language_info": {
   "codemirror_mode": {
    "name": "ipython",
    "version": 3
   },
   "file_extension": ".py",
   "mimetype": "text/x-python",
   "name": "python",
   "nbconvert_exporter": "python",
   "pygments_lexer": "ipython3",
   "version": "3.11.4"
  }
 },
 "nbformat": 4,
 "nbformat_minor": 2
}
